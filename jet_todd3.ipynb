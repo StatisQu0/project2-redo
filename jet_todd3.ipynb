{
 "cells": [
  {
   "cell_type": "code",
   "execution_count": null,
   "id": "ef94bbda-3ac9-49d7-905f-c55c9f37f534",
   "metadata": {},
   "outputs": [],
   "source": [
    "import pandas as pd\n",
    "import numpy as np\n",
    "import requests\n",
    "import json\n",
    "from pathlib import Path"
   ]
  },
  {
   "cell_type": "code",
   "execution_count": null,
   "id": "13cf80b1-dbc9-496a-91d1-d9927a3b3fed",
   "metadata": {
    "tags": []
   },
   "outputs": [],
   "source": [
    "# API Request\n",
    "\n",
    "# Endpoint\n",
    "jet_fuel_price_data = 'http://api.eia.gov/series/?api_key=6OerksEg68hMpcXhk6UrjNzXGKPBpEf6KombS4OS&series_id=PET.EER_EPJK_PF4_RGC_DPG.D'\n",
    "\n",
    "# Fetch the data\n",
    "response = requests.get(jet_fuel_price_data).json()\n",
    "\n",
    "# Display the data\n",
    "# jfl = json.dumps(response, indent = 4)"
   ]
  },
  {
   "cell_type": "code",
   "execution_count": null,
   "id": "49b5b7ce-6d9e-4e87-b915-96ea82a3e407",
   "metadata": {
    "tags": []
   },
   "outputs": [],
   "source": [
    "print(response)"
   ]
  },
  {
   "cell_type": "code",
   "execution_count": null,
   "id": "fba571ff-c3ce-418b-ab0f-7cb3a7726a34",
   "metadata": {},
   "outputs": [],
   "source": [
    "type(response)"
   ]
  },
  {
   "cell_type": "code",
   "execution_count": null,
   "id": "00448229-ec12-4c72-9be0-63a2aa76ffd5",
   "metadata": {},
   "outputs": [],
   "source": [
    "response.keys()"
   ]
  },
  {
   "cell_type": "code",
   "execution_count": null,
   "id": "6df9bbaa-c107-4d86-a3c7-a384e3179f6d",
   "metadata": {
    "jupyter": {
     "source_hidden": true
    },
    "tags": []
   },
   "outputs": [],
   "source": [
    "response['series']"
   ]
  },
  {
   "cell_type": "code",
   "execution_count": null,
   "id": "f03bb489-38e5-4db7-80a4-9048f5561812",
   "metadata": {},
   "outputs": [],
   "source": [
    "test = response['series']"
   ]
  },
  {
   "cell_type": "code",
   "execution_count": null,
   "id": "1fb339e4-1519-4f1a-8a30-09a614f08307",
   "metadata": {},
   "outputs": [],
   "source": [
    "type(test)"
   ]
  },
  {
   "cell_type": "code",
   "execution_count": null,
   "id": "963a4a21-7fd1-4f25-9e06-862f3dc00889",
   "metadata": {
    "tags": []
   },
   "outputs": [],
   "source": [
    "test"
   ]
  },
  {
   "cell_type": "code",
   "execution_count": null,
   "id": "6131bbc2-813a-477f-9684-fd3f00f835e2",
   "metadata": {},
   "outputs": [],
   "source": [
    "type(test[0])"
   ]
  },
  {
   "cell_type": "code",
   "execution_count": null,
   "id": "4b6416ff-bbf8-4bbc-8c1c-023664940a69",
   "metadata": {},
   "outputs": [],
   "source": [
    "df_jf = pd.DataFrame(test[0]['data'])"
   ]
  },
  {
   "cell_type": "code",
   "execution_count": null,
   "id": "51b034e2-6015-4b29-95fd-ab31d79d27ff",
   "metadata": {},
   "outputs": [],
   "source": [
    "df_jf"
   ]
  },
  {
   "cell_type": "code",
   "execution_count": null,
   "id": "5d132306-644f-46d9-ac96-8f197685cea9",
   "metadata": {},
   "outputs": [],
   "source": [
    "df_jf.dtypes\n"
   ]
  },
  {
   "cell_type": "code",
   "execution_count": null,
   "id": "fbb0ad96-34c7-4e2c-98bc-233f151d97a2",
   "metadata": {},
   "outputs": [],
   "source": [
    "import datetime"
   ]
  },
  {
   "cell_type": "code",
   "execution_count": null,
   "id": "87823e0c-d39e-4c23-8e1a-aaad4b7304a4",
   "metadata": {},
   "outputs": [],
   "source": [
    "df_jf[0]"
   ]
  },
  {
   "cell_type": "code",
   "execution_count": null,
   "id": "03f0ebfe-091f-4494-b943-2f87cc38cb6f",
   "metadata": {},
   "outputs": [],
   "source": [
    "df_jf[0] = pd.to_datetime(df_jf[0])"
   ]
  },
  {
   "cell_type": "code",
   "execution_count": null,
   "id": "298ee6a6-fffc-4e4b-b60c-167e76d486e2",
   "metadata": {},
   "outputs": [],
   "source": [
    "df_jf.dtypes"
   ]
  },
  {
   "cell_type": "code",
   "execution_count": null,
   "id": "4cb56fe0-e245-4cd0-a8ef-facd4f2fc3d4",
   "metadata": {},
   "outputs": [],
   "source": [
    "df_jf"
   ]
  },
  {
   "cell_type": "code",
   "execution_count": null,
   "id": "660be8a4-86a7-4151-80e7-07c225707cbe",
   "metadata": {},
   "outputs": [],
   "source": [
    "# df.rename(columns={\"A\": \"a\", \"B\": \"c\"})\n",
    "df_jf.rename(columns={0 : 'date', 1 : 'jf_price'}, inplace = True)"
   ]
  },
  {
   "cell_type": "code",
   "execution_count": null,
   "id": "ba6f0a31-bd90-4f42-918f-9c17ba39c87a",
   "metadata": {},
   "outputs": [],
   "source": [
    "df_jf.head()"
   ]
  },
  {
   "cell_type": "code",
   "execution_count": null,
   "id": "d1a010c6-f0a3-4d14-b282-49c2af5c9a42",
   "metadata": {},
   "outputs": [],
   "source": [
    "import matplotlib.pyplot as plt\n",
    "%matplotlib inline"
   ]
  },
  {
   "cell_type": "code",
   "execution_count": null,
   "id": "29b870f1-ffcf-483d-9f39-a4f949228df7",
   "metadata": {},
   "outputs": [],
   "source": [
    "save_path = Path('SAVE_5_YEAR.csv')\n",
    "\n",
    "# Read in data and index by date\n",
    "save_data = pd.read_csv(\n",
    "    save_path, \n",
    "    index_col='Date',     \n",
    "    parse_dates=True, \n",
    "    infer_datetime_format=True\n",
    ")\n",
    "save_data"
   ]
  },
  {
   "cell_type": "code",
   "execution_count": null,
   "id": "9b600099-1404-4332-92d7-625941bd9c2b",
   "metadata": {},
   "outputs": [],
   "source": [
    "save_data = save_data.drop(['Open', 'High', 'Low', 'Adj Close', 'Volume'], axis=1)"
   ]
  },
  {
   "cell_type": "code",
   "execution_count": null,
   "id": "8d1cb8b4-c718-4b6b-89d2-3914fc38cd4b",
   "metadata": {},
   "outputs": [],
   "source": [
    "save_data.head()"
   ]
  },
  {
   "cell_type": "code",
   "execution_count": null,
   "id": "6cd34994-02fa-4339-bfdf-76d7cc2e7910",
   "metadata": {},
   "outputs": [],
   "source": [
    "save_data.dtypes"
   ]
  },
  {
   "cell_type": "code",
   "execution_count": null,
   "id": "e6864806-8423-497a-abef-59008499dccd",
   "metadata": {},
   "outputs": [],
   "source": [
    "df_jf.head()"
   ]
  },
  {
   "cell_type": "code",
   "execution_count": null,
   "id": "bd6612d0-ff37-4393-a1e4-5b30438b929d",
   "metadata": {},
   "outputs": [],
   "source": [
    "df_jf.set_index('date', inplace = True)"
   ]
  },
  {
   "cell_type": "code",
   "execution_count": null,
   "id": "2b9c8683-76f1-416f-85c5-c6e504679074",
   "metadata": {},
   "outputs": [],
   "source": [
    "df_jf.head()"
   ]
  },
  {
   "cell_type": "code",
   "execution_count": null,
   "id": "6e9964ca-92e2-43f3-892e-a04d21637104",
   "metadata": {},
   "outputs": [],
   "source": [
    "save_data.head()"
   ]
  },
  {
   "cell_type": "code",
   "execution_count": null,
   "id": "0600f991-a713-40cb-85b8-73c0f713a7b3",
   "metadata": {},
   "outputs": [],
   "source": [
    "save_data.index"
   ]
  },
  {
   "cell_type": "code",
   "execution_count": null,
   "id": "5610aac3-b1f1-4cbe-ae8a-6d621d5733bb",
   "metadata": {},
   "outputs": [],
   "source": [
    "df_jf.index"
   ]
  },
  {
   "cell_type": "code",
   "execution_count": null,
   "id": "2cef3318-08b7-45e0-9174-7015c487fda3",
   "metadata": {},
   "outputs": [],
   "source": [
    "df = df_jf.join(save_data)"
   ]
  },
  {
   "cell_type": "code",
   "execution_count": null,
   "id": "fd959916-9e44-4f89-85f2-0be23b4736f0",
   "metadata": {},
   "outputs": [],
   "source": [
    "df.dropna(inplace=True)"
   ]
  },
  {
   "cell_type": "code",
   "execution_count": null,
   "id": "613f5805-e77b-4bb6-84d3-091a267e61d4",
   "metadata": {},
   "outputs": [],
   "source": [
    "df.shape"
   ]
  },
  {
   "cell_type": "code",
   "execution_count": null,
   "id": "1cbcdf19-75d2-43bf-b43c-848d8ddaad2c",
   "metadata": {},
   "outputs": [],
   "source": [
    "df.head(25)"
   ]
  },
  {
   "cell_type": "code",
   "execution_count": null,
   "id": "d8640cae-8855-4843-b75b-a993c1e5145e",
   "metadata": {},
   "outputs": [],
   "source": [
    "import matplotlib.pyplot as plt"
   ]
  },
  {
   "cell_type": "code",
   "execution_count": null,
   "id": "e37e572e-478a-406c-b5b1-2ee51b0f8ade",
   "metadata": {},
   "outputs": [],
   "source": [
    "df.plot.area(figsize=(16, 16), subplots=True)"
   ]
  },
  {
   "cell_type": "code",
   "execution_count": null,
   "id": "95ada8db-2867-4fa0-a6c3-72b9c07303f9",
   "metadata": {},
   "outputs": [],
   "source": [
    "import seaborn as sns\n",
    "correlate = df.corr()\n",
    "plt.figure(figsize=(15,15))\n",
    "plt.title('Correlation Matrix')\n",
    "sns.heatmap(correlate, vmax =1, square=True, annot=True, cmap='cubehelix')"
   ]
  },
  {
   "cell_type": "code",
   "execution_count": null,
   "id": "e83584c9-4fc4-4014-bcfb-8da7e849d8e7",
   "metadata": {},
   "outputs": [],
   "source": [
    "X = df[['jf_price', 'Close']].dropna().copy()\n",
    "\n",
    "X\n"
   ]
  },
  {
   "cell_type": "code",
   "execution_count": null,
   "id": "f10be975",
   "metadata": {},
   "outputs": [],
   "source": [
    "# Display sample data\n",
    "display(X.head())\n",
    "display(X.tail())"
   ]
  },
  {
   "cell_type": "code",
   "execution_count": null,
   "id": "9799bf5a",
   "metadata": {},
   "outputs": [],
   "source": [
    "X.info()"
   ]
  },
  {
   "cell_type": "code",
   "execution_count": null,
   "id": "63e4768b",
   "metadata": {},
   "outputs": [],
   "source": [
    "X"
   ]
  },
  {
   "cell_type": "code",
   "execution_count": null,
   "id": "184d9c39",
   "metadata": {},
   "outputs": [],
   "source": [
    "y = df['Close'].copy()\n",
    "y"
   ]
  },
  {
   "cell_type": "code",
   "execution_count": null,
   "id": "01345bef",
   "metadata": {},
   "outputs": [],
   "source": [
    "from pandas.tseries.offsets import DateOffset\n"
   ]
  },
  {
   "cell_type": "code",
   "execution_count": null,
   "id": "12a08f8a",
   "metadata": {},
   "outputs": [],
   "source": [
    "# Select the start of the training period\n",
    "training_begin = X.index.min()\n",
    "\n",
    "# Display the training begin date\n",
    "print(training_begin)\n",
    "\n",
    "# Select the ending period for the training data with an offset of 3 months\n",
    "training_end = training_begin + DateOffset(months=36)\n",
    "\n",
    "# Display the training end date\n",
    "print(training_end)"
   ]
  },
  {
   "cell_type": "code",
   "execution_count": null,
   "id": "4f1bcf17",
   "metadata": {},
   "outputs": [],
   "source": [
    "X"
   ]
  },
  {
   "cell_type": "code",
   "execution_count": null,
   "id": "7e6a90c1",
   "metadata": {},
   "outputs": [],
   "source": [
    "# Generate the X_train and y_train DataFrames\n",
    "X_train = X.loc['2017-07-17':'2020-07-17']\n",
    "y_train = y.loc['2017-07-17':'2020-07-17']\n",
    "\n",
    "# Display sample data\n",
    "X_train.tail()"
   ]
  },
  {
   "cell_type": "code",
   "execution_count": null,
   "id": "403cfddd",
   "metadata": {},
   "outputs": [],
   "source": [
    "# Generate the X_test and y_test DataFrames\n",
    "X_test = X.loc['2020-07-17':'2022-07-17']\n",
    "y_test = y.loc['2020-07-17':'2022-07-17']\n",
    "\n",
    "# Display sample data\n",
    "X_test.head()"
   ]
  },
  {
   "cell_type": "code",
   "execution_count": null,
   "id": "f0843744",
   "metadata": {},
   "outputs": [],
   "source": [
    "# Import the required module\n",
    "from sklearn.preprocessing import StandardScaler\n",
    "\n",
    "# Create a StandardScaler instance\n",
    "scaler = StandardScaler()\n",
    "\n",
    "# Apply the scaler model to fit the X_train data\n",
    "X_scaler = scaler.fit(X_train)\n",
    "\n",
    "# Transform the X_train and X_test DataFrames using the X_scaler\n",
    "X_train_scaled = X_scaler.transform(X_train)\n",
    "X_test_scaled = X_scaler.transform(X_test)"
   ]
  },
  {
   "cell_type": "code",
   "execution_count": null,
   "id": "2f43e144-8e5a-42a0-ad13-8944ec745d22",
   "metadata": {},
   "outputs": [],
   "source": [
    "\"\"\"\n",
    "# Import a new classifier from SKLearn\n",
    "from sklearn.linear_model import LogisticRegression\n",
    "\n",
    "# Initiate the model instance\n",
    "logistic_regression_model = LogisticRegression()\n",
    "\"\"\""
   ]
  },
  {
   "cell_type": "code",
   "execution_count": null,
   "id": "f84a6295-c784-425f-9e74-d3be1c56cf77",
   "metadata": {},
   "outputs": [],
   "source": [
    "\"\"\"\n",
    "# Fit the model using the training data\n",
    "model = logistic_regression_model.fit(X_train_scaled, y_train)\n",
    "\n",
    "# Use the testing dataset to generate the predictions for the new model\n",
    "pred = logistic_regression_model.predict(X_test_scaled)\n",
    "\n",
    "# Review the model's predicted values\n",
    "pred[:10]\n",
    "\"\"\""
   ]
  },
  {
   "cell_type": "code",
   "execution_count": null,
   "id": "91c9c800-cb64-4fcf-ad8f-fe9a5d0b7e8e",
   "metadata": {},
   "outputs": [],
   "source": [
    "# Import the SVM model\n",
    "from sklearn import svm"
   ]
  },
  {
   "cell_type": "code",
   "execution_count": null,
   "id": "d0f212bd-b2f8-401f-b5b3-9d70bb8a712a",
   "metadata": {},
   "outputs": [],
   "source": [
    "# Create the classifier model\n",
    "svm_model = svm.SVR()\n",
    "\n",
    "# Fit the model to the data using X_train_scaled and y_train\n",
    "svm_model = svm_model.fit(X_train_scaled, y_train)\n",
    "\n",
    "# Use the trained model to predict the trading signals for the training data\n",
    "training_signal_predictions = svm_model.predict(X_train_scaled)\n",
    "\n",
    "# Display the sample predictions\n",
    "training_signal_predictions[:10]"
   ]
  },
  {
   "cell_type": "code",
   "execution_count": null,
   "id": "d06b8505-98a4-429a-9614-1fc48752a0f3",
   "metadata": {},
   "outputs": [],
   "source": [
    "y_train"
   ]
  },
  {
   "cell_type": "code",
   "execution_count": null,
   "id": "83291b70-fa5d-49fa-a2e9-23fa674fed79",
   "metadata": {},
   "outputs": [],
   "source": [
    "from sklearn.neighbors import KNeighborsClassifier\n",
    "from sklearn.metrics import classification_report, confusion_matrix\n",
    "\n",
    "\n",
    "\n",
    "\n",
    "# Use the KNN classifier to fit data:\n",
    "classifier = KNeighborsClassifier(n_neighbors=2)\n",
    "classifier.fit(X_train, y_train) \n",
    "\n",
    "# Predict y data with classifier: \n",
    "y_predict = classifier.predict(X_test)\n",
    "\n",
    "# Print results: \n",
    "print(confusion_matrix(y_test, y_predict))\n",
    "print(classification_report(y_test, y_predict))"
   ]
  },
  {
   "cell_type": "code",
   "execution_count": null,
   "id": "29bd424c-9860-4038-86e1-eaf765e5ff66",
   "metadata": {},
   "outputs": [],
   "source": [
    "# Import the required module\n",
    "from sklearn.metrics import classification_report\n",
    "\n",
    "\n",
    "# Evaluate the model using a classification report\n",
    "#training_report = classification_report(y_train, training_signal_predictions)\n",
    "#print(training_report)\n",
    "\n",
    "print(classification_report(y_train, training_signal_predictions))\n"
   ]
  },
  {
   "cell_type": "code",
   "execution_count": null,
   "id": "e97a7dd6-f870-402f-8911-9de2247e108a",
   "metadata": {},
   "outputs": [],
   "source": [
    "df.head()"
   ]
  },
  {
   "cell_type": "code",
   "execution_count": 116,
   "id": "3cf834aa-784d-4c49-9ea5-78cb626eda93",
   "metadata": {},
   "outputs": [],
   "source": [
    "changes_df = df.pct_change()\n",
    "changes_df.dropna(inplace=True)"
   ]
  },
  {
   "cell_type": "code",
   "execution_count": null,
   "id": "290160d0-b6cb-4fe1-849b-131467de67a7",
   "metadata": {},
   "outputs": [],
   "source": [
    "changes_df.corr()"
   ]
  },
  {
   "cell_type": "code",
   "execution_count": 117,
   "id": "32eba2ff-08c5-45cd-839c-5e28bf3ad2ea",
   "metadata": {},
   "outputs": [
    {
     "data": {
      "text/html": [
       "<div>\n",
       "<style scoped>\n",
       "    .dataframe tbody tr th:only-of-type {\n",
       "        vertical-align: middle;\n",
       "    }\n",
       "\n",
       "    .dataframe tbody tr th {\n",
       "        vertical-align: top;\n",
       "    }\n",
       "\n",
       "    .dataframe thead th {\n",
       "        text-align: right;\n",
       "    }\n",
       "</style>\n",
       "<table border=\"1\" class=\"dataframe\">\n",
       "  <thead>\n",
       "    <tr style=\"text-align: right;\">\n",
       "      <th></th>\n",
       "      <th>jf_price</th>\n",
       "      <th>Close</th>\n",
       "      <th>Actual Returns</th>\n",
       "    </tr>\n",
       "    <tr>\n",
       "      <th>date</th>\n",
       "      <th></th>\n",
       "      <th></th>\n",
       "      <th></th>\n",
       "    </tr>\n",
       "  </thead>\n",
       "  <tbody>\n",
       "    <tr>\n",
       "      <th>2022-07-11</th>\n",
       "      <td>0.025298</td>\n",
       "      <td>0.009930</td>\n",
       "      <td>1.0</td>\n",
       "    </tr>\n",
       "    <tr>\n",
       "      <th>2022-07-08</th>\n",
       "      <td>-0.023011</td>\n",
       "      <td>0.020074</td>\n",
       "      <td>1.0</td>\n",
       "    </tr>\n",
       "    <tr>\n",
       "      <th>2022-07-07</th>\n",
       "      <td>-0.006810</td>\n",
       "      <td>-0.040562</td>\n",
       "      <td>-1.0</td>\n",
       "    </tr>\n",
       "    <tr>\n",
       "      <th>2022-07-06</th>\n",
       "      <td>-0.072571</td>\n",
       "      <td>0.019674</td>\n",
       "      <td>1.0</td>\n",
       "    </tr>\n",
       "    <tr>\n",
       "      <th>2022-07-05</th>\n",
       "      <td>0.050832</td>\n",
       "      <td>-0.009031</td>\n",
       "      <td>-1.0</td>\n",
       "    </tr>\n",
       "  </tbody>\n",
       "</table>\n",
       "</div>"
      ],
      "text/plain": [
       "            jf_price     Close  Actual Returns\n",
       "date                                          \n",
       "2022-07-11  0.025298  0.009930             1.0\n",
       "2022-07-08 -0.023011  0.020074             1.0\n",
       "2022-07-07 -0.006810 -0.040562            -1.0\n",
       "2022-07-06 -0.072571  0.019674             1.0\n",
       "2022-07-05  0.050832 -0.009031            -1.0"
      ]
     },
     "execution_count": 117,
     "metadata": {},
     "output_type": "execute_result"
    }
   ],
   "source": [
    "changes_df['Actual Returns'] = 0.0\n",
    "changes_df.loc[changes_df['Close'] >= 0, 'Actual Returns'] = 1\n",
    "changes_df.loc[changes_df['Close'] < 0,  'Actual Returns'] = -1\n",
    "changes_df.head()"
   ]
  },
  {
   "cell_type": "code",
   "execution_count": 118,
   "id": "00872c86-1adb-4c04-a23f-852eac8aef8c",
   "metadata": {},
   "outputs": [],
   "source": [
    "X = changes_df['jf_price'].dropna().copy()"
   ]
  },
  {
   "cell_type": "code",
   "execution_count": 119,
   "id": "1541a5a2-f75f-4e63-9d5a-de6a88a90300",
   "metadata": {},
   "outputs": [],
   "source": [
    "y = changes_df['Actual Returns'].dropna()"
   ]
  },
  {
   "cell_type": "code",
   "execution_count": 120,
   "id": "310cf79b-9dc5-4cca-b800-1b9983a54048",
   "metadata": {},
   "outputs": [
    {
     "data": {
      "text/plain": [
       "date\n",
       "2017-07-24   -0.033175\n",
       "2017-07-21   -0.002801\n",
       "2017-07-20    0.020365\n",
       "2017-07-19    0.004818\n",
       "2017-07-18   -0.032877\n",
       "Name: jf_price, dtype: float64"
      ]
     },
     "execution_count": 120,
     "metadata": {},
     "output_type": "execute_result"
    }
   ],
   "source": [
    "# Generate the X_train and y_train DataFrames\n",
    "X_train = X.loc['2017-07-17':'2020-07-17']\n",
    "y_train = y.loc['2017-07-17':'2020-07-17']\n",
    "\n",
    "# Display sample data\n",
    "\n",
    "X_train.tail()\n"
   ]
  },
  {
   "cell_type": "code",
   "execution_count": 121,
   "id": "c607c59c-6563-4acf-98d5-623dacd9fa2a",
   "metadata": {},
   "outputs": [
    {
     "name": "stderr",
     "output_type": "stream",
     "text": [
      "C:\\Users\\STATIS~1\\AppData\\Local\\Temp/ipykernel_23272/1964512869.py:2: FutureWarning: Value based partial slicing on non-monotonic DatetimeIndexes with non-existing keys is deprecated and will raise a KeyError in a future Version.\n",
      "  X_test = X.loc['2020-07-17':'2022-07-17']\n",
      "C:\\Users\\STATIS~1\\AppData\\Local\\Temp/ipykernel_23272/1964512869.py:3: FutureWarning: Value based partial slicing on non-monotonic DatetimeIndexes with non-existing keys is deprecated and will raise a KeyError in a future Version.\n",
      "  y_test = y.loc['2020-07-17':'2022-07-17']\n"
     ]
    },
    {
     "data": {
      "text/plain": [
       "date\n",
       "2022-07-11    0.025298\n",
       "2022-07-08   -0.023011\n",
       "2022-07-07   -0.006810\n",
       "2022-07-06   -0.072571\n",
       "2022-07-05    0.050832\n",
       "Name: jf_price, dtype: float64"
      ]
     },
     "execution_count": 121,
     "metadata": {},
     "output_type": "execute_result"
    }
   ],
   "source": [
    "# Generate the X_test and y_test DataFrames\n",
    "X_test = X.loc['2020-07-17':'2022-07-17']\n",
    "y_test = y.loc['2020-07-17':'2022-07-17']\n",
    "\n",
    "# Display sample data\n",
    "X_test.head()"
   ]
  },
  {
   "cell_type": "code",
   "execution_count": 122,
   "id": "27917617-2b77-4f9a-8eaf-0340da37a971",
   "metadata": {},
   "outputs": [],
   "source": [
    "# Create a StandardScaler instance\n",
    "import numpy as np\n",
    "scaler = StandardScaler()\n",
    "\n",
    "X_train = np.array(X_train).reshape(-1,1)\n",
    "X_test = np.array(X_test).reshape(-1,1)\n",
    "# Apply the scaler model to fit the X_train data\n",
    "X_scaler = scaler.fit(X_train)\n",
    "\n",
    "# Transform the X_train and X_test DataFrames using the X_scaler\n",
    "X_train_scaled = X_scaler.transform(X_train)\n",
    "X_test_scaled = X_scaler.transform(X_test)"
   ]
  },
  {
   "cell_type": "code",
   "execution_count": 128,
   "id": "665b70a5-7c11-452e-b2a0-64ecad4c5ea1",
   "metadata": {},
   "outputs": [],
   "source": [
    "# Import a new classifier from SKLearn\n",
    "from sklearn.linear_model import LogisticRegression\n",
    "\n",
    "# Initiate the model instance\n",
    "logistic_regression_model = LogisticRegression()"
   ]
  },
  {
   "cell_type": "code",
   "execution_count": 129,
   "id": "191d3332-1404-4289-b5c9-644b3b3ea5d2",
   "metadata": {},
   "outputs": [],
   "source": [
    "\n",
    "# Fit the model using the training data\n",
    "model = logistic_regression_model.fit(X_train_scaled, y_train)\n",
    "\n",
    "# Use the testing dataset to generate the predictions for the new model\n",
    "pred = model.predict(X_test_scaled)"
   ]
  },
  {
   "cell_type": "code",
   "execution_count": 130,
   "id": "d086576c-d7f3-4710-90e4-d2f4466b5bf7",
   "metadata": {},
   "outputs": [
    {
     "name": "stdout",
     "output_type": "stream",
     "text": [
      "              precision    recall  f1-score   support\n",
      "\n",
      "        -1.0       0.49      0.43      0.46       229\n",
      "         1.0       0.55      0.62      0.59       263\n",
      "\n",
      "    accuracy                           0.53       492\n",
      "   macro avg       0.52      0.52      0.52       492\n",
      "weighted avg       0.53      0.53      0.53       492\n",
      "\n"
     ]
    }
   ],
   "source": [
    "\n",
    "print(classification_report(y_test, pred))"
   ]
  },
  {
   "cell_type": "code",
   "execution_count": 87,
   "id": "f9f0f6f8-ac85-49ed-9e77-51301d79a817",
   "metadata": {},
   "outputs": [
    {
     "data": {
      "text/plain": [
       "492"
      ]
     },
     "execution_count": 87,
     "metadata": {},
     "output_type": "execute_result"
    }
   ],
   "source": [
    "len(pred)"
   ]
  },
  {
   "cell_type": "code",
   "execution_count": null,
   "id": "b90580cc-62cd-4002-a738-5b79314a288c",
   "metadata": {},
   "outputs": [],
   "source": []
  }
 ],
 "metadata": {
  "kernelspec": {
   "display_name": "Python 3 (ipykernel)",
   "language": "python",
   "name": "python3"
  },
  "language_info": {
   "codemirror_mode": {
    "name": "ipython",
    "version": 3
   },
   "file_extension": ".py",
   "mimetype": "text/x-python",
   "name": "python",
   "nbconvert_exporter": "python",
   "pygments_lexer": "ipython3",
   "version": "3.9.7"
  },
  "vscode": {
   "interpreter": {
    "hash": "29bbda686475ec5006212c3a74fe87ec94e3b0882a45b916fdad50cc65ea130c"
   }
  }
 },
 "nbformat": 4,
 "nbformat_minor": 5
}
